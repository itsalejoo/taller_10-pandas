{
 "cells": [
  {
   "cell_type": "code",
   "execution_count": 1,
   "id": "3c114c56",
   "metadata": {},
   "outputs": [
    {
     "name": "stdout",
     "output_type": "stream",
     "text": [
      "Requirement already satisfied: pandas in c:\\users\\estudiantes\\anaconda3\\lib\\site-packages (2.0.3)\n",
      "Requirement already satisfied: python-dateutil>=2.8.2 in c:\\users\\estudiantes\\anaconda3\\lib\\site-packages (from pandas) (2.8.2)\n",
      "Requirement already satisfied: pytz>=2020.1 in c:\\users\\estudiantes\\anaconda3\\lib\\site-packages (from pandas) (2023.3.post1)\n",
      "Requirement already satisfied: tzdata>=2022.1 in c:\\users\\estudiantes\\anaconda3\\lib\\site-packages (from pandas) (2023.3)\n",
      "Requirement already satisfied: numpy>=1.21.0 in c:\\users\\estudiantes\\anaconda3\\lib\\site-packages (from pandas) (1.24.3)\n",
      "Requirement already satisfied: six>=1.5 in c:\\users\\estudiantes\\anaconda3\\lib\\site-packages (from python-dateutil>=2.8.2->pandas) (1.16.0)\n"
     ]
    }
   ],
   "source": [
    "!pip install pandas"
   ]
  },
  {
   "cell_type": "markdown",
   "id": "e635088f",
   "metadata": {},
   "source": [
    "# Biblioteca Pandas en python"
   ]
  },
  {
   "cell_type": "code",
   "execution_count": 2,
   "id": "1f63e742",
   "metadata": {},
   "outputs": [],
   "source": [
    "import pandas as pd"
   ]
  },
  {
   "cell_type": "markdown",
   "id": "5367bc8d",
   "metadata": {},
   "source": [
    "## Crear una serie\n",
    "arreglo unidimensional de datos"
   ]
  },
  {
   "cell_type": "code",
   "execution_count": 3,
   "id": "8c645c4b",
   "metadata": {},
   "outputs": [
    {
     "data": {
      "text/plain": [
       "0    34\n",
       "1    56\n",
       "2    78\n",
       "3    23\n",
       "4    34\n",
       "dtype: int64"
      ]
     },
     "execution_count": 3,
     "metadata": {},
     "output_type": "execute_result"
    }
   ],
   "source": [
    "miSerie=pd.Series([34,56,78,23,34])\n",
    "miSerie"
   ]
  },
  {
   "cell_type": "markdown",
   "id": "ced018dd",
   "metadata": {},
   "source": [
    "## Diccionario en Python\n",
    "estructura que guarda datos en forma de objetos llave-valor"
   ]
  },
  {
   "cell_type": "code",
   "execution_count": 12,
   "id": "b2b4ad70",
   "metadata": {},
   "outputs": [
    {
     "data": {
      "text/plain": [
       "{'nombre': 'casa1',\n",
       " 'área': '120',\n",
       " 'baños': 3,\n",
       " 'propietarios': ['alejandro', 'sebas', 'nena'],\n",
       " 'Barrio': {'nombre': 'gran Britalia', 'localidad': 'Bosa'}}"
      ]
     },
     "execution_count": 12,
     "metadata": {},
     "output_type": "execute_result"
    }
   ],
   "source": [
    "miDiccionario={\n",
    "    \"nombre\":\"casa1\",\n",
    "    \"área\":\"120\",\n",
    "    \"baños\": 3,\n",
    "    \"propietarios\":[\n",
    "        \"alejandro\",\"sebas\",\"nena\"\n",
    "    ],\n",
    "    \"Barrio\":{\n",
    "        \"nombre\":\"gran Britalia\",\n",
    "        \"localidad\":\"Bosa\"\n",
    "    }\n",
    "}\n",
    "miDiccionario"
   ]
  },
  {
   "cell_type": "markdown",
   "id": "9d158a4c",
   "metadata": {},
   "source": [
    "### DataFrame\n",
    "estructura de datos en formato tabla.\n",
    "\n",
    "la forma \"simple\" de crear un dataframe es a partir de un diccionario, otra forma puede ser desde hojas de cálculo, desde archivos JSON o desde archivos CSV(valores separados por coma (,))"
   ]
  },
  {
   "cell_type": "code",
   "execution_count": 13,
   "id": "14d1a58a",
   "metadata": {},
   "outputs": [
    {
     "data": {
      "text/html": [
       "<div>\n",
       "<style scoped>\n",
       "    .dataframe tbody tr th:only-of-type {\n",
       "        vertical-align: middle;\n",
       "    }\n",
       "\n",
       "    .dataframe tbody tr th {\n",
       "        vertical-align: top;\n",
       "    }\n",
       "\n",
       "    .dataframe thead th {\n",
       "        text-align: right;\n",
       "    }\n",
       "</style>\n",
       "<table border=\"1\" class=\"dataframe\">\n",
       "  <thead>\n",
       "    <tr style=\"text-align: right;\">\n",
       "      <th></th>\n",
       "      <th>sí</th>\n",
       "      <th>No</th>\n",
       "    </tr>\n",
       "  </thead>\n",
       "  <tbody>\n",
       "    <tr>\n",
       "      <th>0</th>\n",
       "      <td>10</td>\n",
       "      <td>50</td>\n",
       "    </tr>\n",
       "    <tr>\n",
       "      <th>1</th>\n",
       "      <td>15</td>\n",
       "      <td>68</td>\n",
       "    </tr>\n",
       "  </tbody>\n",
       "</table>\n",
       "</div>"
      ],
      "text/plain": [
       "   sí  No\n",
       "0  10  50\n",
       "1  15  68"
      ]
     },
     "execution_count": 13,
     "metadata": {},
     "output_type": "execute_result"
    }
   ],
   "source": [
    "miDataframe= pd.DataFrame({\"sí\":[10,15],\"No\":[50,68]})\n",
    "miDataframe"
   ]
  },
  {
   "cell_type": "code",
   "execution_count": null,
   "id": "29224453",
   "metadata": {},
   "outputs": [],
   "source": []
  }
 ],
 "metadata": {
  "kernelspec": {
   "display_name": "Python 3 (ipykernel)",
   "language": "python",
   "name": "python3"
  },
  "language_info": {
   "codemirror_mode": {
    "name": "ipython",
    "version": 3
   },
   "file_extension": ".py",
   "mimetype": "text/x-python",
   "name": "python",
   "nbconvert_exporter": "python",
   "pygments_lexer": "ipython3",
   "version": "3.11.5"
  }
 },
 "nbformat": 4,
 "nbformat_minor": 5
}
